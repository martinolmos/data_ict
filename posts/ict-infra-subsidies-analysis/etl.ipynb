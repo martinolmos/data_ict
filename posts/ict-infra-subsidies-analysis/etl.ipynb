{
 "cells": [
  {
   "cell_type": "code",
   "execution_count": 1,
   "metadata": {},
   "outputs": [
    {
     "data": {
      "text/plain": [
       "True"
      ]
     },
     "execution_count": 1,
     "metadata": {},
     "output_type": "execute_result"
    }
   ],
   "source": [
    "from dotenv import load_dotenv\n",
    "\n",
    "load_dotenv('../../.env', override=True)"
   ]
  },
  {
   "cell_type": "code",
   "execution_count": 3,
   "metadata": {},
   "outputs": [],
   "source": [
    "from sqlalchemy import create_engine\n",
    "import os\n",
    "\n",
    "host = os.getenv(\"HOST\")\n",
    "port = os.getenv(\"PORT\")\n",
    "# database = os.getenv(\"DBNAME\")\n",
    "database = \"anr\"\n",
    "user = os.getenv(\"USER\")\n",
    "password = os.getenv(\"PASSWD\")\n"
   ]
  },
  {
   "cell_type": "code",
   "execution_count": 5,
   "metadata": {},
   "outputs": [],
   "source": [
    "\n",
    "engine = create_engine(f\"postgresql://{user}:{password}@{host}:{port}/{database}\")"
   ]
  },
  {
   "cell_type": "code",
   "execution_count": 6,
   "metadata": {},
   "outputs": [],
   "source": [
    "import pandas as pd\n",
    "\n",
    "anr_prog_con = pd.read_sql_table(table_name=\"conectividad_aprob_georef\", con=engine)"
   ]
  },
  {
   "cell_type": "code",
   "execution_count": 7,
   "metadata": {},
   "outputs": [],
   "source": [
    "anr_prog_con.drop_duplicates(inplace=True, ignore_index=True)"
   ]
  },
  {
   "cell_type": "code",
   "execution_count": 9,
   "metadata": {},
   "outputs": [
    {
     "data": {
      "text/plain": [
       "Index(['acta', 'tipo', 'exp', 'razon_social', 'cuit', 'programa', 'monto',\n",
       "       'lugar', 'file', 'acta_nro', 'prog_original', 'acta_file', 'fecha',\n",
       "       'provincia', 'localidad', 'departamento', 'id', 'localidad_indec',\n",
       "       'departamento_indec', 'provincia_indec', 'lat', 'lon'],\n",
       "      dtype='object')"
      ]
     },
     "execution_count": 9,
     "metadata": {},
     "output_type": "execute_result"
    }
   ],
   "source": [
    "anr_prog_con.columns"
   ]
  },
  {
   "cell_type": "code",
   "execution_count": 10,
   "metadata": {},
   "outputs": [
    {
     "data": {
      "text/html": [
       "<div>\n",
       "<style scoped>\n",
       "    .dataframe tbody tr th:only-of-type {\n",
       "        vertical-align: middle;\n",
       "    }\n",
       "\n",
       "    .dataframe tbody tr th {\n",
       "        vertical-align: top;\n",
       "    }\n",
       "\n",
       "    .dataframe thead th {\n",
       "        text-align: right;\n",
       "    }\n",
       "</style>\n",
       "<table border=\"1\" class=\"dataframe\">\n",
       "  <thead>\n",
       "    <tr style=\"text-align: right;\">\n",
       "      <th></th>\n",
       "      <th>acta</th>\n",
       "      <th>tipo</th>\n",
       "      <th>exp</th>\n",
       "      <th>razon_social</th>\n",
       "      <th>cuit</th>\n",
       "      <th>programa</th>\n",
       "      <th>monto</th>\n",
       "      <th>lugar</th>\n",
       "      <th>file</th>\n",
       "      <th>acta_nro</th>\n",
       "      <th>...</th>\n",
       "      <th>fecha</th>\n",
       "      <th>provincia</th>\n",
       "      <th>localidad</th>\n",
       "      <th>departamento</th>\n",
       "      <th>id</th>\n",
       "      <th>localidad_indec</th>\n",
       "      <th>departamento_indec</th>\n",
       "      <th>provincia_indec</th>\n",
       "      <th>lat</th>\n",
       "      <th>lon</th>\n",
       "    </tr>\n",
       "  </thead>\n",
       "  <tbody>\n",
       "    <tr>\n",
       "      <th>0</th>\n",
       "      <td>EX-2019-45180205-APN-DNFYD#ENACOM: Aprobar el ...</td>\n",
       "      <td>Aprobar el proyecto</td>\n",
       "      <td>EX-2019-45180205-APN-DNFYD#ENACOM</td>\n",
       "      <td>SEBE CABLE SOCIEDAD DE RESPONSABILIDAD LIMITADA</td>\n",
       "      <td>3.064501e+10</td>\n",
       "      <td>PROGRAMA CONECTIVIDAD</td>\n",
       "      <td>2261577.0</td>\n",
       "      <td>Localidad de Juan A. Pradere, departamento de ...</td>\n",
       "      <td>aprobados_acta_56.csv</td>\n",
       "      <td>Acta 56</td>\n",
       "      <td>...</td>\n",
       "      <td>enero 2020</td>\n",
       "      <td>Buenos Aires</td>\n",
       "      <td>Juan A Pradere</td>\n",
       "      <td>Patagones</td>\n",
       "      <td>06602050000</td>\n",
       "      <td>JUAN A. PRADERE</td>\n",
       "      <td>Patagones</td>\n",
       "      <td>Buenos Aires</td>\n",
       "      <td>-39.599380</td>\n",
       "      <td>-62.651047</td>\n",
       "    </tr>\n",
       "    <tr>\n",
       "      <th>1</th>\n",
       "      <td>EX-2019-57002814-APN-DNFYD#ENACOM: Aprobar el ...</td>\n",
       "      <td>Aprobar el proyecto</td>\n",
       "      <td>EX-2019-57002814-APN-DNFYD#ENACOM</td>\n",
       "      <td>VIDEO CABLE TOTAL S.A.</td>\n",
       "      <td>3.070783e+10</td>\n",
       "      <td>PROGRAMA CONECTIVIDAD</td>\n",
       "      <td>9874019.0</td>\n",
       "      <td>Localidad de Teodelina, departamento de Genera...</td>\n",
       "      <td>aprobados_acta_56.csv</td>\n",
       "      <td>Acta 56</td>\n",
       "      <td>...</td>\n",
       "      <td>enero 2020</td>\n",
       "      <td>Santa Fe</td>\n",
       "      <td>Teodelina</td>\n",
       "      <td>General Lopez</td>\n",
       "      <td>82042280000</td>\n",
       "      <td>TEODELINA</td>\n",
       "      <td>General López</td>\n",
       "      <td>Santa Fe</td>\n",
       "      <td>-34.191613</td>\n",
       "      <td>-61.527226</td>\n",
       "    </tr>\n",
       "    <tr>\n",
       "      <th>2</th>\n",
       "      <td>EX-2019-88343739-APN-DNFYD#ENACOM: Aprobar el ...</td>\n",
       "      <td>Aprobar el proyecto</td>\n",
       "      <td>EX-2019-88343739-APN-DNFYD#ENACOM</td>\n",
       "      <td>COOPERATIVA DE SERVICIOS PÚBLICOS DEL CAMPILLO...</td>\n",
       "      <td>3.054579e+10</td>\n",
       "      <td>PROGRAMA CONECTIVIDAD</td>\n",
       "      <td>8848620.0</td>\n",
       "      <td>Localidad de Del Campillo, del departamento de...</td>\n",
       "      <td>aprobados_acta_56.csv</td>\n",
       "      <td>Acta 56</td>\n",
       "      <td>...</td>\n",
       "      <td>enero 2020</td>\n",
       "      <td>Córdoba</td>\n",
       "      <td>Del Campillo</td>\n",
       "      <td>Gral Roca</td>\n",
       "      <td>14035010000</td>\n",
       "      <td>DEL CAMPILLO</td>\n",
       "      <td>General Roca</td>\n",
       "      <td>Córdoba</td>\n",
       "      <td>-34.376085</td>\n",
       "      <td>-64.494540</td>\n",
       "    </tr>\n",
       "    <tr>\n",
       "      <th>3</th>\n",
       "      <td>EX-2019-81016814-APN-DNFYD#ENACOM: Aprobar el ...</td>\n",
       "      <td>Aprobar el proyecto</td>\n",
       "      <td>EX-2019-81016814-APN-DNFYD#ENACOM</td>\n",
       "      <td>COOPERATIVA DE OBRAS Y SERVICIOS PÚBLICOS MONJ...</td>\n",
       "      <td>3.056536e+10</td>\n",
       "      <td>PROGRAMA CONECTIVIDAD</td>\n",
       "      <td>2661583.0</td>\n",
       "      <td>Localidad de Monje, departamento de San Jeróni...</td>\n",
       "      <td>aprobados_acta_56.csv</td>\n",
       "      <td>Acta 56</td>\n",
       "      <td>...</td>\n",
       "      <td>enero 2020</td>\n",
       "      <td>Santa Fe</td>\n",
       "      <td>Monje</td>\n",
       "      <td>San Jerónimo</td>\n",
       "      <td>82105200000</td>\n",
       "      <td>MONJE</td>\n",
       "      <td>San Jerónimo</td>\n",
       "      <td>Santa Fe</td>\n",
       "      <td>-32.358736</td>\n",
       "      <td>-60.942904</td>\n",
       "    </tr>\n",
       "    <tr>\n",
       "      <th>4</th>\n",
       "      <td>EX-2019-77479546-APN-DNFYD#ENACOM: Aprobar el ...</td>\n",
       "      <td>Aprobar el proyecto</td>\n",
       "      <td>EX-2019-77479546-APN-DNFYD#ENACOM</td>\n",
       "      <td>TELE IMAGEN PRIVADA S.A.</td>\n",
       "      <td>3.070886e+10</td>\n",
       "      <td>PROGRAMA CONECTIVIDAD</td>\n",
       "      <td>5218974.0</td>\n",
       "      <td>Localidad de Villa Ascasubi, departamento de T...</td>\n",
       "      <td>aprobados_acta_56.csv</td>\n",
       "      <td>Acta 56</td>\n",
       "      <td>...</td>\n",
       "      <td>enero 2020</td>\n",
       "      <td>Córdoba</td>\n",
       "      <td>Villa Ascasubi</td>\n",
       "      <td>Tercero Arriba</td>\n",
       "      <td>14161170000</td>\n",
       "      <td>VILLA ASCASUBI</td>\n",
       "      <td>Tercero Arriba</td>\n",
       "      <td>Córdoba</td>\n",
       "      <td>-32.164358</td>\n",
       "      <td>-63.892559</td>\n",
       "    </tr>\n",
       "  </tbody>\n",
       "</table>\n",
       "<p>5 rows × 22 columns</p>\n",
       "</div>"
      ],
      "text/plain": [
       "                                                acta                 tipo  \\\n",
       "0  EX-2019-45180205-APN-DNFYD#ENACOM: Aprobar el ...  Aprobar el proyecto   \n",
       "1  EX-2019-57002814-APN-DNFYD#ENACOM: Aprobar el ...  Aprobar el proyecto   \n",
       "2  EX-2019-88343739-APN-DNFYD#ENACOM: Aprobar el ...  Aprobar el proyecto   \n",
       "3  EX-2019-81016814-APN-DNFYD#ENACOM: Aprobar el ...  Aprobar el proyecto   \n",
       "4  EX-2019-77479546-APN-DNFYD#ENACOM: Aprobar el ...  Aprobar el proyecto   \n",
       "\n",
       "                                 exp  \\\n",
       "0  EX-2019-45180205-APN-DNFYD#ENACOM   \n",
       "1  EX-2019-57002814-APN-DNFYD#ENACOM   \n",
       "2  EX-2019-88343739-APN-DNFYD#ENACOM   \n",
       "3  EX-2019-81016814-APN-DNFYD#ENACOM   \n",
       "4  EX-2019-77479546-APN-DNFYD#ENACOM   \n",
       "\n",
       "                                        razon_social          cuit  \\\n",
       "0    SEBE CABLE SOCIEDAD DE RESPONSABILIDAD LIMITADA  3.064501e+10   \n",
       "1                             VIDEO CABLE TOTAL S.A.  3.070783e+10   \n",
       "2  COOPERATIVA DE SERVICIOS PÚBLICOS DEL CAMPILLO...  3.054579e+10   \n",
       "3  COOPERATIVA DE OBRAS Y SERVICIOS PÚBLICOS MONJ...  3.056536e+10   \n",
       "4                           TELE IMAGEN PRIVADA S.A.  3.070886e+10   \n",
       "\n",
       "                programa      monto  \\\n",
       "0  PROGRAMA CONECTIVIDAD  2261577.0   \n",
       "1  PROGRAMA CONECTIVIDAD  9874019.0   \n",
       "2  PROGRAMA CONECTIVIDAD  8848620.0   \n",
       "3  PROGRAMA CONECTIVIDAD  2661583.0   \n",
       "4  PROGRAMA CONECTIVIDAD  5218974.0   \n",
       "\n",
       "                                               lugar                   file  \\\n",
       "0  Localidad de Juan A. Pradere, departamento de ...  aprobados_acta_56.csv   \n",
       "1  Localidad de Teodelina, departamento de Genera...  aprobados_acta_56.csv   \n",
       "2  Localidad de Del Campillo, del departamento de...  aprobados_acta_56.csv   \n",
       "3  Localidad de Monje, departamento de San Jeróni...  aprobados_acta_56.csv   \n",
       "4  Localidad de Villa Ascasubi, departamento de T...  aprobados_acta_56.csv   \n",
       "\n",
       "  acta_nro  ...       fecha     provincia       localidad    departamento  \\\n",
       "0  Acta 56  ...  enero 2020  Buenos Aires  Juan A Pradere       Patagones   \n",
       "1  Acta 56  ...  enero 2020      Santa Fe       Teodelina   General Lopez   \n",
       "2  Acta 56  ...  enero 2020       Córdoba    Del Campillo       Gral Roca   \n",
       "3  Acta 56  ...  enero 2020      Santa Fe           Monje    San Jerónimo   \n",
       "4  Acta 56  ...  enero 2020       Córdoba  Villa Ascasubi  Tercero Arriba   \n",
       "\n",
       "            id  localidad_indec departamento_indec provincia_indec        lat  \\\n",
       "0  06602050000  JUAN A. PRADERE          Patagones    Buenos Aires -39.599380   \n",
       "1  82042280000        TEODELINA      General López        Santa Fe -34.191613   \n",
       "2  14035010000     DEL CAMPILLO       General Roca         Córdoba -34.376085   \n",
       "3  82105200000            MONJE       San Jerónimo        Santa Fe -32.358736   \n",
       "4  14161170000   VILLA ASCASUBI     Tercero Arriba         Córdoba -32.164358   \n",
       "\n",
       "         lon  \n",
       "0 -62.651047  \n",
       "1 -61.527226  \n",
       "2 -64.494540  \n",
       "3 -60.942904  \n",
       "4 -63.892559  \n",
       "\n",
       "[5 rows x 22 columns]"
      ]
     },
     "execution_count": 10,
     "metadata": {},
     "output_type": "execute_result"
    }
   ],
   "source": [
    "anr_prog_con.head()"
   ]
  },
  {
   "cell_type": "code",
   "execution_count": 11,
   "metadata": {},
   "outputs": [],
   "source": [
    "anr_prog_con_simple = anr_prog_con[['fecha', 'id']]"
   ]
  },
  {
   "cell_type": "code",
   "execution_count": 20,
   "metadata": {},
   "outputs": [],
   "source": [
    "anr_prog_con_simple.loc[anr_prog_con_simple['fecha']=='junio', 'fecha'] = 'junio 2022' "
   ]
  },
  {
   "cell_type": "code",
   "execution_count": 21,
   "metadata": {},
   "outputs": [
    {
     "name": "stderr",
     "output_type": "stream",
     "text": [
      "/var/folders/_7/80b7r22d48j6n3m0r4vsgvdm0000gn/T/ipykernel_58503/2779528713.py:3: SettingWithCopyWarning: \n",
      "A value is trying to be set on a copy of a slice from a DataFrame.\n",
      "Try using .loc[row_indexer,col_indexer] = value instead\n",
      "\n",
      "See the caveats in the documentation: https://pandas.pydata.org/pandas-docs/stable/user_guide/indexing.html#returning-a-view-versus-a-copy\n",
      "  anr_prog_con_simple['mes'] = anr_prog_con_simple['fecha'].apply(lambda x: x.split(' ')[0])\n",
      "/var/folders/_7/80b7r22d48j6n3m0r4vsgvdm0000gn/T/ipykernel_58503/2779528713.py:4: SettingWithCopyWarning: \n",
      "A value is trying to be set on a copy of a slice from a DataFrame.\n",
      "Try using .loc[row_indexer,col_indexer] = value instead\n",
      "\n",
      "See the caveats in the documentation: https://pandas.pydata.org/pandas-docs/stable/user_guide/indexing.html#returning-a-view-versus-a-copy\n",
      "  anr_prog_con_simple['mes'] = anr_prog_con_simple['mes'].map(meses)\n",
      "/var/folders/_7/80b7r22d48j6n3m0r4vsgvdm0000gn/T/ipykernel_58503/2779528713.py:5: SettingWithCopyWarning: \n",
      "A value is trying to be set on a copy of a slice from a DataFrame.\n",
      "Try using .loc[row_indexer,col_indexer] = value instead\n",
      "\n",
      "See the caveats in the documentation: https://pandas.pydata.org/pandas-docs/stable/user_guide/indexing.html#returning-a-view-versus-a-copy\n",
      "  anr_prog_con_simple['anio'] = anr_prog_con_simple['fecha'].apply(lambda x: x.split(' ')[1])\n",
      "/var/folders/_7/80b7r22d48j6n3m0r4vsgvdm0000gn/T/ipykernel_58503/2779528713.py:6: SettingWithCopyWarning: \n",
      "A value is trying to be set on a copy of a slice from a DataFrame.\n",
      "Try using .loc[row_indexer,col_indexer] = value instead\n",
      "\n",
      "See the caveats in the documentation: https://pandas.pydata.org/pandas-docs/stable/user_guide/indexing.html#returning-a-view-versus-a-copy\n",
      "  anr_prog_con_simple['fecha_alt'] = anr_prog_con_simple['anio'] + '-' + anr_prog_con_simple['mes'] + '-01'\n",
      "/var/folders/_7/80b7r22d48j6n3m0r4vsgvdm0000gn/T/ipykernel_58503/2779528713.py:7: SettingWithCopyWarning: \n",
      "A value is trying to be set on a copy of a slice from a DataFrame.\n",
      "Try using .loc[row_indexer,col_indexer] = value instead\n",
      "\n",
      "See the caveats in the documentation: https://pandas.pydata.org/pandas-docs/stable/user_guide/indexing.html#returning-a-view-versus-a-copy\n",
      "  anr_prog_con_simple['fecha_alt'] = pd.to_datetime(anr_prog_con_simple['fecha_alt'])\n"
     ]
    }
   ],
   "source": [
    "meses = {'enero': '01', 'febrero': '02', 'marzo': '03', 'abril': '04', 'mayo': '05', 'junio': '06', 'julio': '07', 'agosto': '08', 'septiembre': '09', 'octubre': '10', 'noviembre': '11', 'diciembre': '12'}\n",
    "\n",
    "anr_prog_con_simple['mes'] = anr_prog_con_simple['fecha'].apply(lambda x: x.split(' ')[0])\n",
    "anr_prog_con_simple['mes'] = anr_prog_con_simple['mes'].map(meses)\n",
    "anr_prog_con_simple['anio'] = anr_prog_con_simple['fecha'].apply(lambda x: x.split(' ')[1])\n",
    "anr_prog_con_simple['fecha_alt'] = anr_prog_con_simple['anio'] + '-' + anr_prog_con_simple['mes'] + '-01'\n",
    "anr_prog_con_simple['fecha_alt'] = pd.to_datetime(anr_prog_con_simple['fecha_alt'])\n",
    "\n"
   ]
  },
  {
   "cell_type": "code",
   "execution_count": 17,
   "metadata": {},
   "outputs": [
    {
     "data": {
      "text/plain": [
       "array(['enero 2020', 'julio 2020', 'febrero 2020', 'abril 2020',\n",
       "       'mayo 2020', 'agosto 2020', 'octubre 2020', 'noviembre 2020',\n",
       "       'febrero 2021', 'abril 2021', 'junio 2021', 'agosto 2021',\n",
       "       'octubre 2021', 'noviembre 2021', 'diciembre 2021', 'febrero 2022',\n",
       "       'mayo 2022', 'junio', 'agosto 2022', 'septiembre 2022',\n",
       "       'noviembre 2022', 'diciembre 2022', 'marzo 2023', 'abril 2022',\n",
       "       'mayo 2023', 'junio 2023', 'agosto 2023', 'octubre 2023',\n",
       "       'noviembre 2023'], dtype=object)"
      ]
     },
     "execution_count": 17,
     "metadata": {},
     "output_type": "execute_result"
    }
   ],
   "source": [
    "anr_prog_con_simple['fecha'].unique()"
   ]
  },
  {
   "cell_type": "code",
   "execution_count": 19,
   "metadata": {},
   "outputs": [
    {
     "data": {
      "text/plain": [
       "100    Acta 79 - junio.pdf\n",
       "101    Acta 79 - junio.pdf\n",
       "102    Acta 79 - junio.pdf\n",
       "103    Acta 79 - junio.pdf\n",
       "104    Acta 79 - junio.pdf\n",
       "Name: acta_file, dtype: object"
      ]
     },
     "execution_count": 19,
     "metadata": {},
     "output_type": "execute_result"
    }
   ],
   "source": [
    "anr_prog_con.loc[anr_prog_con['fecha']=='junio', 'acta_file']"
   ]
  },
  {
   "cell_type": "code",
   "execution_count": 33,
   "metadata": {},
   "outputs": [
    {
     "name": "stderr",
     "output_type": "stream",
     "text": [
      "/var/folders/_7/80b7r22d48j6n3m0r4vsgvdm0000gn/T/ipykernel_58503/2617043581.py:1: SettingWithCopyWarning: \n",
      "A value is trying to be set on a copy of a slice from a DataFrame.\n",
      "Try using .loc[row_indexer,col_indexer] = value instead\n",
      "\n",
      "See the caveats in the documentation: https://pandas.pydata.org/pandas-docs/stable/user_guide/indexing.html#returning-a-view-versus-a-copy\n",
      "  anr_prog_con_simple['link'] = anr_prog_con_simple['id'].apply(lambda x: x[:-3] if x is not None else None)\n"
     ]
    }
   ],
   "source": [
    "anr_prog_con_simple['link'] = anr_prog_con_simple['id'].apply(lambda x: x[:-3] if x is not None else None)"
   ]
  },
  {
   "cell_type": "code",
   "execution_count": 34,
   "metadata": {},
   "outputs": [
    {
     "data": {
      "text/html": [
       "<div>\n",
       "<style scoped>\n",
       "    .dataframe tbody tr th:only-of-type {\n",
       "        vertical-align: middle;\n",
       "    }\n",
       "\n",
       "    .dataframe tbody tr th {\n",
       "        vertical-align: top;\n",
       "    }\n",
       "\n",
       "    .dataframe thead th {\n",
       "        text-align: right;\n",
       "    }\n",
       "</style>\n",
       "<table border=\"1\" class=\"dataframe\">\n",
       "  <thead>\n",
       "    <tr style=\"text-align: right;\">\n",
       "      <th></th>\n",
       "      <th>fecha</th>\n",
       "      <th>id</th>\n",
       "      <th>mes</th>\n",
       "      <th>anio</th>\n",
       "      <th>fecha_alt</th>\n",
       "      <th>link</th>\n",
       "    </tr>\n",
       "  </thead>\n",
       "  <tbody>\n",
       "    <tr>\n",
       "      <th>0</th>\n",
       "      <td>enero 2020</td>\n",
       "      <td>06602050000</td>\n",
       "      <td>01</td>\n",
       "      <td>2020</td>\n",
       "      <td>2020-01-01</td>\n",
       "      <td>06602050</td>\n",
       "    </tr>\n",
       "    <tr>\n",
       "      <th>1</th>\n",
       "      <td>enero 2020</td>\n",
       "      <td>82042280000</td>\n",
       "      <td>01</td>\n",
       "      <td>2020</td>\n",
       "      <td>2020-01-01</td>\n",
       "      <td>82042280</td>\n",
       "    </tr>\n",
       "    <tr>\n",
       "      <th>2</th>\n",
       "      <td>enero 2020</td>\n",
       "      <td>14035010000</td>\n",
       "      <td>01</td>\n",
       "      <td>2020</td>\n",
       "      <td>2020-01-01</td>\n",
       "      <td>14035010</td>\n",
       "    </tr>\n",
       "    <tr>\n",
       "      <th>3</th>\n",
       "      <td>enero 2020</td>\n",
       "      <td>82105200000</td>\n",
       "      <td>01</td>\n",
       "      <td>2020</td>\n",
       "      <td>2020-01-01</td>\n",
       "      <td>82105200</td>\n",
       "    </tr>\n",
       "    <tr>\n",
       "      <th>4</th>\n",
       "      <td>enero 2020</td>\n",
       "      <td>14161170000</td>\n",
       "      <td>01</td>\n",
       "      <td>2020</td>\n",
       "      <td>2020-01-01</td>\n",
       "      <td>14161170</td>\n",
       "    </tr>\n",
       "  </tbody>\n",
       "</table>\n",
       "</div>"
      ],
      "text/plain": [
       "        fecha           id mes  anio  fecha_alt      link\n",
       "0  enero 2020  06602050000  01  2020 2020-01-01  06602050\n",
       "1  enero 2020  82042280000  01  2020 2020-01-01  82042280\n",
       "2  enero 2020  14035010000  01  2020 2020-01-01  14035010\n",
       "3  enero 2020  82105200000  01  2020 2020-01-01  82105200\n",
       "4  enero 2020  14161170000  01  2020 2020-01-01  14161170"
      ]
     },
     "execution_count": 34,
     "metadata": {},
     "output_type": "execute_result"
    }
   ],
   "source": [
    "anr_prog_con_simple.head()"
   ]
  },
  {
   "cell_type": "code",
   "execution_count": 35,
   "metadata": {},
   "outputs": [],
   "source": [
    "anr_prog_con_simple_lag = anr_prog_con_simple.loc[anr_prog_con_simple['fecha_alt'] < '2023-01-01']"
   ]
  },
  {
   "cell_type": "code",
   "execution_count": 36,
   "metadata": {},
   "outputs": [
    {
     "data": {
      "text/plain": [
       "((594, 6), (515, 6))"
      ]
     },
     "execution_count": 36,
     "metadata": {},
     "output_type": "execute_result"
    }
   ],
   "source": [
    "anr_prog_con_simple.shape, anr_prog_con_simple_lag.shape"
   ]
  },
  {
   "cell_type": "code",
   "execution_count": 27,
   "metadata": {},
   "outputs": [
    {
     "name": "stderr",
     "output_type": "stream",
     "text": [
      "/Users/martinolmos/Documents/py_projects/data_tic/lib/python3.11/site-packages/pandas/io/sql.py:1725: SAWarning: Did not recognize type 'geometry' of column 'geometry'\n",
      "  self.meta.reflect(bind=self.con, only=[table_name], views=True)\n"
     ]
    }
   ],
   "source": [
    "database2 = \"conectividad_localidad\"\n",
    "engine2 = create_engine(f\"postgresql://{user}:{password}@{host}:{port}/{database2}\")\n",
    "\n",
    "con_loc = pd.read_sql_table(table_name=\"con_loc\", con=engine2)"
   ]
  },
  {
   "cell_type": "code",
   "execution_count": 28,
   "metadata": {},
   "outputs": [
    {
     "data": {
      "text/plain": [
       "Index(['link', 'codpcia', 'coddpto', 'codloc', 'codpciadpto', 'provincia',\n",
       "       'departamento', 'localidad', 'personas', 'hogares', 'geometry',\n",
       "       'cambio', 'personas2022', 'hogares_act', 'accesos', 'otros', 'vmd',\n",
       "       'ADSL', 'CABLEMODEM', 'DIAL UP', 'FIBRA OPTICA', 'OTROS', 'SATELITAL',\n",
       "       'WIMAX', 'WIRELESS', '3G', '4G', 'pen_pob', 'pen_hog'],\n",
       "      dtype='object')"
      ]
     },
     "execution_count": 28,
     "metadata": {},
     "output_type": "execute_result"
    }
   ],
   "source": [
    "con_loc.columns"
   ]
  },
  {
   "cell_type": "code",
   "execution_count": 29,
   "metadata": {},
   "outputs": [],
   "source": [
    "con_loc_simple = con_loc[['link', 'personas', 'pen_pob', 'vmd']]"
   ]
  },
  {
   "cell_type": "code",
   "execution_count": 52,
   "metadata": {},
   "outputs": [],
   "source": [
    "con_loc_simple_anr = con_loc_simple.loc[con_loc_simple['link'].isin(anr_prog_con_simple_lag['link'])]"
   ]
  },
  {
   "cell_type": "code",
   "execution_count": 53,
   "metadata": {},
   "outputs": [],
   "source": [
    "con_loc_simple_elegible = con_loc_simple.loc[con_loc_simple['personas'] < 30000]"
   ]
  },
  {
   "cell_type": "code",
   "execution_count": 54,
   "metadata": {},
   "outputs": [],
   "source": [
    "con_loc_simple_elegible_sin_anr = con_loc_simple_elegible.loc[~con_loc_simple_elegible['link'].isin(anr_prog_con_simple['link'])]"
   ]
  },
  {
   "cell_type": "code",
   "execution_count": 55,
   "metadata": {},
   "outputs": [
    {
     "data": {
      "text/plain": [
       "((3527, 4), (3355, 4), (2854, 4), (465, 4))"
      ]
     },
     "execution_count": 55,
     "metadata": {},
     "output_type": "execute_result"
    }
   ],
   "source": [
    "con_loc_simple.shape, con_loc_simple_elegible.shape, con_loc_simple_elegible_sin_anr.shape, con_loc_simple_anr.shape"
   ]
  },
  {
   "cell_type": "code",
   "execution_count": 56,
   "metadata": {},
   "outputs": [
    {
     "data": {
      "text/plain": [
       "(27.391489894477758, 18.36155918758159)"
      ]
     },
     "execution_count": 56,
     "metadata": {},
     "output_type": "execute_result"
    }
   ],
   "source": [
    "con_loc_simple_elegible_sin_anr['pen_pob'].mean(), con_loc_simple_anr['pen_pob'].mean()"
   ]
  },
  {
   "cell_type": "code",
   "execution_count": 57,
   "metadata": {},
   "outputs": [
    {
     "data": {
      "text/plain": [
       "(5.510015155247972, 8.818575156059055)"
      ]
     },
     "execution_count": 57,
     "metadata": {},
     "output_type": "execute_result"
    }
   ],
   "source": [
    "con_loc_simple_elegible_sin_anr['pen_pob'].median(), con_loc_simple_anr['pen_pob'].median()"
   ]
  },
  {
   "cell_type": "code",
   "execution_count": 47,
   "metadata": {},
   "outputs": [
    {
     "data": {
      "text/plain": [
       "(2497.656271899089, 3126.0717131474103)"
      ]
     },
     "execution_count": 47,
     "metadata": {},
     "output_type": "execute_result"
    }
   ],
   "source": [
    "con_loc_simple_elegible_sin_anr['personas'].mean(), con_loc_simple_anr['personas'].mean()"
   ]
  },
  {
   "cell_type": "code",
   "execution_count": 58,
   "metadata": {},
   "outputs": [
    {
     "data": {
      "text/plain": [
       "(553.5, 1251.0)"
      ]
     },
     "execution_count": 58,
     "metadata": {},
     "output_type": "execute_result"
    }
   ],
   "source": [
    "con_loc_simple_elegible_sin_anr['personas'].median(), con_loc_simple_anr['personas'].median()"
   ]
  },
  {
   "cell_type": "code",
   "execution_count": 64,
   "metadata": {},
   "outputs": [
    {
     "data": {
      "text/plain": [
       "<Axes: >"
      ]
     },
     "execution_count": 64,
     "metadata": {},
     "output_type": "execute_result"
    },
    {
     "data": {
      "image/png": "[encoded data removed]",
      "text/plain": [
       "<Figure size 640x480 with 1 Axes>"
      ]
     },
     "metadata": {},
     "output_type": "display_data"
    }
   ],
   "source": [
    "# Calculate the 5th and 95th percentiles\n",
    "q_low = con_loc_simple_elegible_sin_anr['pen_pob'].quantile(0.05)\n",
    "q_high = con_loc_simple_elegible_sin_anr['pen_pob'].quantile(0.95)\n",
    "\n",
    "# Filter out the outliers\n",
    "# filtered_data = con_loc_simple_elegible_sin_anr[(con_loc_simple_elegible_sin_anr['pen_pob'] > q_low) & (con_loc_simple_elegible_sin_anr['pen_pob'] < q_high)]\n",
    "filtered_data = con_loc_simple_elegible_sin_anr[con_loc_simple_elegible_sin_anr['pen_pob'] < q_high]\n",
    "\n",
    "# Plot the histogram of the filtered data\n",
    "filtered_data['pen_pob'].hist()"
   ]
  },
  {
   "cell_type": "code",
   "execution_count": 65,
   "metadata": {},
   "outputs": [
    {
     "data": {
      "text/plain": [
       "<Axes: >"
      ]
     },
     "execution_count": 65,
     "metadata": {},
     "output_type": "execute_result"
    },
    {
     "data": {
      "image/png": "[encoded data removed]",
      "text/plain": [
       "<Figure size 640x480 with 1 Axes>"
      ]
     },
     "metadata": {},
     "output_type": "display_data"
    }
   ],
   "source": [
    "q_high = con_loc_simple_anr['pen_pob'].quantile(0.95)\n",
    "\n",
    "filtered_data_anr = con_loc_simple_anr[con_loc_simple_anr['pen_pob'] < q_high]\n",
    "\n",
    "filtered_data_anr['pen_pob'].hist()"
   ]
  }
 ],
 "metadata": {
  "kernelspec": {
   "display_name": "data_tic",
   "language": "python",
   "name": "python3"
  },
  "language_info": {
   "codemirror_mode": {
    "name": "ipython",
    "version": 3
   },
   "file_extension": ".py",
   "mimetype": "text/x-python",
   "name": "python",
   "nbconvert_exporter": "python",
   "pygments_lexer": "ipython3",
   "version": "3.11.9"
  }
 },
 "nbformat": 4,
 "nbformat_minor": 2
}
