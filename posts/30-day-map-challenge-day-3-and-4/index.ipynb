{
  "cells": [
    {
      "cell_type": "raw",
      "metadata": {},
      "source": [
        "---\n",
        "title: Beckham vs. Papu Gomez\n",
        "subtitle: Este post no es sobre TICs. Es sobre el uso de IA para clasificaar imágenes.\n",
        "author: ''\n",
        "date: '2023-01-08'\n",
        "slug: []\n",
        "categories: []\n",
        "tags: []\n",
        "Description: ''\n",
        "Tags: []\n",
        "Categories: []\n",
        "DisableComments: no\n",
        "hidesidebar: true\n",
        "---"
      ],
      "id": "cf20a9a1"
    },
    {
      "cell_type": "markdown",
      "metadata": {},
      "source": [
        "::: {.content-visible when-profile=\"english\"}\n",
        "\n",
        "This post is not about ICTs. It's about using AI to classify images. In this case we take a controversy that came up during the World Cup in a stream of Kun Aguero, where Lio Messi and Papu Gomez asked Kun to guess who Papu looks like, after his new haircut.\n",
        "\n",
        "<center>\n",
        "<iframe width=\"560\" height=\"315\" src=\"https://www.youtube.com/embed/07vFqwrz5iA\" title=\"YouTube video player\" frameborder=\"0\" allow=\"accelerometer; autoplay; clipboard-write; encrypted-media; gyroscope; picture-in-picture; web-share\" allowfullscreen></iframe>\n",
        "</center>\n",
        "\n",
        "After that, a controversy was opened. Does Papu Gomez look like David Beckham? That's why I decided to train an AI model to classify images of both players. I have to say that after this I came to the conclusion that they have some similarity, since I had to go from simpler to more complex models so that it could learn to distinguish between the two.\n",
        "\n",
        "You can try the application below or in the following [link](https://martinolmos-papu-beckham-classifier.hf.space)\n",
        "\n",
        "<script\n",
        "\ttype=\"module\"\n",
        "\tsrc=\"https://gradio.s3-us-west-2.amazonaws.com/3.15.0/gradio.js\"\n",
        "></script>\n",
        "\n",
        "<gradio-app src=\"https://martinolmos-papu-beckham-classifier.hf.space\"></gradio-app>\n",
        "\n",
        ":::\n",
        "\n",
        "::: {.content-visible when-profile=\"spanish\"}\n",
        "\n",
        "Este post no es sobre TICs. Es sobre el uso de IA para clasificaar imágenes. En este caso tomamos una controversia que se planteó durante del mundial en un stream del Kun Aguero, donde Lio Messi y el Papu Gomez le piden al Kun que adivine a quién se parece el Papu, luego de su nuevo corte de pelo.\n",
        "\n",
        "<center>\n",
        "<iframe width=\"560\" height=\"315\" src=\"https://www.youtube.com/embed/07vFqwrz5iA\" title=\"YouTube video player\" frameborder=\"0\" allow=\"accelerometer; autoplay; clipboard-write; encrypted-media; gyroscope; picture-in-picture; web-share\" allowfullscreen></iframe>\n",
        "</center>\n",
        "\n",
        "A partir de ahí quedó la controversia. Se parece el Papu Gomez a David Beckham? Es por eso que decidí entrenar un modelo de IA para clasificar imágenes de ambos jugadores. Tengo que decir que a partir de esto llegué a la conclusión que algún parecido tienen, ya que tuve que ir pasando de modelos más simples a más complejos para que aprenda a distinguir bien entre los dos.\n",
        "\n",
        "Pueden probar la aplicación a continuación o en el siguiente [link](https://martinolmos-papu-beckham-classifier.hf.space)\n",
        "\n",
        "<script\n",
        "\ttype=\"module\"\n",
        "\tsrc=\"https://gradio.s3-us-west-2.amazonaws.com/3.15.0/gradio.js\"\n",
        "></script>\n",
        "\n",
        "<gradio-app src=\"https://martinolmos-papu-beckham-classifier.hf.space\"></gradio-app>\n",
        "\n",
        ":::\n"
      ],
      "id": "252fe9fb"
    },
    {
      "cell_type": "code",
      "metadata": {},
      "source": [
        "First code block"
      ],
      "id": "c7e7ec41",
      "execution_count": null,
      "outputs": []
    },
    {
      "cell_type": "code",
      "metadata": {},
      "source": [
        "Second code block"
      ],
      "id": "471503e9",
      "execution_count": null,
      "outputs": []
    }
  ],
  "metadata": {
    "kernelspec": {
      "name": "python3",
      "language": "python",
      "display_name": "Python 3 (ipykernel)"
    }
  },
  "nbformat": 4,
  "nbformat_minor": 5
}